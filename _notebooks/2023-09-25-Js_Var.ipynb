{
 "cells": [
  {
   "cell_type": "markdown",
   "metadata": {},
   "source": [
    "---\n",
    "toc: true\n",
    "comments: false\n",
    "layout: post\n",
    "title: Js \n",
    "type: hacks\n",
    "courses: { csp: {week: 4} }\n",
    "---\n",
    "\n",
    "\n",
    "\n",
    "### JS "
   ]
  },
  {
   "cell_type": "markdown",
   "metadata": {},
   "source": [
    "<html>\n",
    "<head>\n",
    "    <title>Comparison Program</title>\n",
    "</head>\n",
    "<body>\n",
    "\n",
    "<script>\n",
    "    // Define two variables, a and b, with some values\n",
    "    var a = 10;\n",
    "    var b = 5;\n",
    "\n",
    "    // Compare the values of a and b using if statements\n",
    "    if (a > b) {\n",
    "        // If a is greater than b, log \"a is greater\"\n",
    "        console.log(\"a is greater\");\n",
    "    } else if (b > a) {\n",
    "        // If b is greater than a, log \"b is greater\"\n",
    "        console.log(\"b is greater\");\n",
    "    } else {\n",
    "        // If neither a is greater than b nor b is greater than a, they are equal, so log \"both are equal\"\n",
    "        console.log(\"both are equal\");\n",
    "    }\n",
    "</script>\n",
    "\n",
    "</body>\n",
    "</html>\n"
   ]
  },
  {
   "cell_type": "code",
   "execution_count": null,
   "metadata": {
    "vscode": {
     "languageId": "plaintext"
    }
   },
   "outputs": [],
   "source": [
    "<html>\n",
    "<head>\n",
    "    <title>Comparison Program</title>\n",
    "</head>\n",
    "<body>\n",
    "\n",
    "<script>\n",
    "    // Define two variables, a and b, with some values\n",
    "    var a = 10;\n",
    "    var b = 5;\n",
    "\n",
    "    // Compare the values of a and b using if statements\n",
    "    if (a > b) {\n",
    "        // If a is greater than b, log \"a is greater\"\n",
    "        console.log(\"a is greater\");\n",
    "    } else if (b > a) {\n",
    "        // If b is greater than a, log \"b is greater\"\n",
    "        console.log(\"b is greater\");\n",
    "    } else {\n",
    "        // If neither a is greater than b nor b is greater than a, they are equal, so log \"both are equal\"\n",
    "        console.log(\"both are equal\");\n",
    "    }\n",
    "</script>\n",
    "\n",
    "</body>\n",
    "</html>\n"
   ]
  }
 ],
 "metadata": {
  "language_info": {
   "name": "python"
  },
  "orig_nbformat": 4
 },
 "nbformat": 4,
 "nbformat_minor": 2
}
