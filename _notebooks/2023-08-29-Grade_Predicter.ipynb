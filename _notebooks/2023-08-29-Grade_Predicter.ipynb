{
 "cells": [
  {
   "cell_type": "markdown",
   "metadata": {},
   "source": [
    "---\n",
    "layout: post\n",
    "title: A Cancer Predicting Logistic Regression Model\n",
    "description: A Breast Cancer PRedicting Logistic Regression Model\n",
    "type: hacks\n",
    "courses: {'csse': {'week': 2}, 'csp': {'week': 2}, 'csa': {'week': 0}}\n",
    "categories: ['C4.1']\n",
    "---"
   ]
  },
  {
   "cell_type": "code",
   "execution_count": null,
   "metadata": {},
   "outputs": [],
   "source": [
    "import numpy as np\n",
    "import matplotlib.pyplot as plt\n",
    "from sklearn.model_selection import train_test_split\n",
    "from sklearn.preprocessing import PolynomialFeatures\n",
    "from sklearn.linear_model import LinearRegression\n",
    "from sklearn.metrics import mean_squared_error\n",
    "import pandas as pd\n",
    "\n",
    "data = pd.read_csv('grade_data.csv')\n",
    "X = data[['Hours_of_Study']]\n",
    "y = data['Grade_Recieved']\n",
    "\n",
    "\n",
    "\n",
    "# Generate random data for demonstration\n",
    "np.random.seed(0)\n",
    "X = np.sort(5 * np.random.rand(80, 1), axis=0)\n",
    "y = 2 * X + 1.5 + np.random.randn(80, 1)\n",
    "\n",
    "# Split the data into training and testing sets\n",
    "X_train, X_test, y_train, y_test = train_test_split(X, y, test_size=0.3, random_state=0)\n",
    "\n",
    "# Polynomial feature transformation\n",
    "poly = PolynomialFeatures(degree=2)  # Change degree as needed\n",
    "X_train_poly = poly.fit_transform(X_train)\n",
    "X_test_poly = poly.transform(X_test)\n",
    "\n",
    "# Create and train the polynomial regression model\n",
    "model = LinearRegression()\n",
    "model.fit(X_train_poly, y_train)\n",
    "\n",
    "# Make predictions\n",
    "y_pred = model.predict(X_test_poly)\n",
    "\n",
    "# Calculate Mean Squared Error\n",
    "mse = mean_squared_error(y_test, y_pred)\n",
    "\n",
    "# Plot the results\n",
    "plt.scatter(X, y, color='blue', label='Data')\n",
    "plt.plot(X_test, y_pred, color='red', label='Polynomial Regression')\n",
    "plt.xlabel('X')\n",
    "plt.ylabel('y')\n",
    "plt.title('Polynomial Regression for Grade Prediction')\n",
    "plt.legend()\n",
    "plt.show()\n",
    "\n",
    "print(f\"Mean Squared Error: {mse:.2f}\")\n"
   ]
  },
  {
   "cell_type": "markdown",
   "metadata": {},
   "source": [
    "This is a machine learning model that predicts the grade students get based off how much studying they do, it utilizes polynomial regression and scikit learn."
   ]
  }
 ],
 "metadata": {
  "language_info": {
   "name": "python"
  },
  "orig_nbformat": 4
 },
 "nbformat": 4,
 "nbformat_minor": 2
}
