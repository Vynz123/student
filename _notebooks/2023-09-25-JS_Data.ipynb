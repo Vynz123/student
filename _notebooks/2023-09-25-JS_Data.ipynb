{
 "cells": [
  {
   "cell_type": "markdown",
   "metadata": {},
   "source": [
    "---\n",
    "toc: true\n",
    "comments: false\n",
    "layout: post\n",
    "title: Js Data\n",
    "type: hacks\n",
    "courses: { csp: {week: 4} }\n",
    "---\n",
    "\n",
    "\n",
    "\n",
    "### JS Data"
   ]
  },
  {
   "cell_type": "markdown",
   "metadata": {},
   "source": [
    "<script> \n",
    "    // Creating an object representing myself\n",
    "const myInfo = {\n",
    "    name: \"Shubhay\",\n",
    "    age: 15,\n",
    "    currentClasses: [\"CSP\", \"Calc\", \"Physics\", \"Chem\",\"English\"],\n",
    "    interests: [\"Programming\", \"food\"],\n",
    "    heightInInches: 67,\n",
    "    weightInKg: 50,\n",
    "};\n",
    "\n",
    "// Printing the entire object\n",
    "console.log(\"My Info Object:\");\n",
    "console.log(myInfo);\n",
    "\n",
    "// Manipulating the arrays within the object\n",
    "myInfo.currentClasses.push(\"Machine Learning\");\n",
    "myInfo.interests.push(\"Cooking\");\n",
    "\n",
    "// Printing the object after manipulation\n",
    "console.log(\"\\nMy Info Object after Manipulation:\");\n",
    "console.log(myInfo);\n",
    "\n",
    "// Performing mathematical operations\n",
    "const heightInFeet = myInfo.heightInInches / 12;\n",
    "const weightInPounds = myInfo.weightInKg * 2.205;\n",
    "\n",
    "console.log(\"\\nHeight in Feet:\", heightInFeet.toFixed(2));\n",
    "console.log(\"Weight in Pounds:\", weightInPounds.toFixed(2));\n",
    "\n",
    "// Using typeof to determine the types of fields\n",
    "console.log(\"\\nData Types:\");\n",
    "console.log(\"Name:\", typeof myInfo.name);\n",
    "console.log(\"Age:\", typeof myInfo.age);\n",
    "console.log(\"Interests:\", typeof myInfo.interests);\n",
    "\n",
    "</script>"
   ]
  }
 ],
 "metadata": {
  "language_info": {
   "name": "python"
  },
  "orig_nbformat": 4
 },
 "nbformat": 4,
 "nbformat_minor": 2
}
