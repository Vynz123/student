{
 "cells": [
  {
   "cell_type": "markdown",
   "metadata": {},
   "source": [
    "HTML Web Site Layout"
   ]
  },
  {
   "cell_type": "markdown",
   "metadata": {
    "vscode": {
     "languageId": "html"
    }
   },
   "source": [
    "\n",
    "<html lang=\"en\">\n",
    "<head>\n",
    "    <title>Navbar</title>\n",
    "    <style>\n",
    "        *{\n",
    "            margin: 0;\n",
    "            padding: 0;\n",
    "            box-sizing: border-box;\n",
    "            font-family: \"Poppins\";\n",
    "        }\n",
    "\n",
    "        body{\n",
    "            min-height: 1 rem;\n",
    "            background: url('https://images4.newscred.com/Zz1kNmFkYmFmNzhlNGIxMWViYTU1ZDFmYjg0ZWI5MTc4Zg==') no-repeat;\n",
    "            background-size: cover;\n",
    "            background-position: center;\n",
    "        }\n",
    "\n",
    "        .header{\n",
    "            position: fixed;\n",
    "            top: 0;\n",
    "            left: 0;\n",
    "            width: 100%;\n",
    "            padding: 20 px 100 px;\n",
    "            background: transparent;\n",
    "            display: flex;\n",
    "            justify-content: space-between;\n",
    "            align-items: center;\n",
    "            z-index: 100;\n",
    "        }\n",
    "\n",
    "        .logo{\n",
    "            font-size: 32 px;\n",
    "            color: white;\n",
    "            text-decoration: none;\n",
    "            font-weight: 700;\n",
    "        }\n",
    "\n",
    "        .navbar a {\n",
    "            position: relative;\n",
    "            font-size: 18 px;\n",
    "            color: white;\n",
    "            font-weight: 500;\n",
    "            text-decoration: none;\n",
    "            margin-left: 40 px;\n",
    "            \n",
    "        }\n",
    "\n",
    "        .navbar a::before {\n",
    "            content: '';\n",
    "            position: absolute ;\n",
    "            top: 100%;\n",
    "            left: 0;\n",
    "            width: 0;\n",
    "            height: 2 px;\n",
    "            background: #fff;\n",
    "            transition: .3 s;\n",
    "\n",
    "        }\n",
    "\n",
    "        .navbar a:hover::before{\n",
    "            width: 100%;\n",
    "\n",
    "        }\n",
    "    </style>\n",
    "</head>\n",
    "<body>\n",
    "    <header class=\"header\"> \n",
    "        <a href=\"#\" class=\"Logo\">Logo</a>\n",
    "\n",
    "        <nav class=\"navbar\">\n",
    "            <a>Home</a>\n",
    "            <a>About</a>\n",
    "            <a>Gallery</a>\n",
    "            <a>Services</a>\n",
    "            <a>Contact</a>\n",
    "        </nav>\n",
    "    </header>\n",
    "</body>\n",
    "</html>"
   ]
  },
  {
   "cell_type": "code",
   "execution_count": null,
   "metadata": {},
   "outputs": [],
   "source": []
  }
 ],
 "metadata": {
  "kernelspec": {
   "display_name": "Python 3 (ipykernel)",
   "language": "python",
   "name": "python3"
  },
  "language_info": {
   "codemirror_mode": {
    "name": "ipython",
    "version": 3
   },
   "file_extension": ".py",
   "mimetype": "text/x-python",
   "name": "python",
   "nbconvert_exporter": "python",
   "pygments_lexer": "ipython3",
   "version": "3.10.9"
  }
 },
 "nbformat": 4,
 "nbformat_minor": 2
}
