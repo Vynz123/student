{
 "cells": [
  {
   "cell_type": "markdown",
   "metadata": {},
   "source": [
    "---\n",
    "comments: true\n",
    "layout: post\n",
    "title: Python IO\n",
    "description: A Python Quiz Application\n",
    "type: hacks\n",
    "courses: { csse: {week: 1}, csp: {week: 1}, csa: {week: 0} }\n",
    "categories: [C4.1]\n",
    "---"
   ]
  },
  {
   "cell_type": "markdown",
   "metadata": {
    "vscode": {
     "languageId": "plaintext"
    }
   },
   "source": [
    "A Optimized Python Quiz Application Using Functions, if else statements and storing the users game data locally on their computer. In this code I optimized it from the given code by making a quick ask_question function that can ask the question and compare it to the answer provided in the questions list. I then optimized the main function by storing the questions data there, and calling the ask_question function and providing the data inputted. Then I iterate through the list of questions checking if the answer is correct or wrong using the ask_question function then moving on."
   ]
  },
  {
   "cell_type": "code",
   "execution_count": 1,
   "metadata": {},
   "outputs": [
    {
     "name": "stdout",
     "output_type": "stream",
     "text": [
      "Hello, shubhay running /Users/shubhay/anaconda3/bin/python\n",
      "You will be asked 3 questions.\n",
      "Question: Are you ready to take a test?\n",
      "yes\n",
      "Yes is correct!\n",
      "Question: Name the Python output command mentioned in this lesson?\n",
      "print\n",
      "Print is correct!\n",
      "Question: If you see many lines of code in order, what would College Board call it?\n",
      "program\n",
      "Program is correct!\n",
      "Question: Describe a keyword used in Python to define a function?\n",
      "def\n",
      "Def is correct!\n",
      "shubhay, you scored 3/3\n"
     ]
    }
   ],
   "source": [
    "import getpass\n",
    "import sys\n",
    "\n",
    "# Function to ask a question and check the response against the correct answer\n",
    "def ask_question(prompt, correct_answer):\n",
    "    print(\"Question:\", prompt)\n",
    "    response = input().strip().lower()  # Get user input, remove extra spaces, and convert to lowercase\n",
    "    if response == correct_answer:\n",
    "        print(response.capitalize(), \"is correct!\")\n",
    "        return True\n",
    "    else:\n",
    "        print(response.capitalize(), \"is incorrect!\")\n",
    "        return False\n",
    "\n",
    "# Main program logic\n",
    "def main():\n",
    "    # List of questions and their corresponding correct answers\n",
    "    questions = [\n",
    "        (\"Name the Python output command mentioned in this lesson?\", \"print\"),\n",
    "        (\"If you see many lines of code in order, what would College Board call it?\", \"program\"),\n",
    "        (\"Describe a keyword used in Python to define a function?\", \"def\")\n",
    "    ]\n",
    "\n",
    "    correct = 0\n",
    "\n",
    "    print(f'Hello, {getpass.getuser()} running {sys.executable}')  # Print user and Python executable info\n",
    "    print(f'You will be asked {len(questions)} questions.')\n",
    "\n",
    "    if ask_question(\"Are you ready to take a test?\", \"yes\"):\n",
    "        for prompt, correct_answer in questions:\n",
    "            if ask_question(prompt, correct_answer):\n",
    "                correct += 1\n",
    "\n",
    "    print(f'{getpass.getuser()}, you scored {correct}/{len(questions)}')\n",
    "\n",
    "# Ensure the main function is called only when the script is run directly\n",
    "if __name__ == \"__main__\":\n",
    "    main()\n"
   ]
  }
 ],
 "metadata": {
  "kernelspec": {
   "display_name": "Python 3 (ipykernel)",
   "language": "python",
   "name": "python3"
  },
  "language_info": {
   "codemirror_mode": {
    "name": "ipython",
    "version": 3
   },
   "file_extension": ".py",
   "mimetype": "text/x-python",
   "name": "python",
   "nbconvert_exporter": "python",
   "pygments_lexer": "ipython3",
   "version": "3.10.9"
  }
 },
 "nbformat": 4,
 "nbformat_minor": 2
}
