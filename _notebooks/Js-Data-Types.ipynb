{
 "cells": [
  {
   "cell_type": "markdown",
   "metadata": {},
   "source": [
    "---\n",
    "toc: true\n",
    "comments: false\n",
    "layout: default\n",
    "title: Web Test-Js\n",
    "type: hacks\n",
    "courses: { csp: {week: 4} }\n",
    "---\n",
    "\n",
    "\n",
    "### JS-Data \n"
   ]
  },
  {
   "cell_type": "markdown",
   "metadata": {},
   "source": [
    "<script>\n",
    "// Creating an object representing myself\n",
    "const myInfo = {\n",
    "    name: \"John\",\n",
    "    age: 30,\n",
    "    currentClasses: [\"Computer Science\", \"Data Science\"],\n",
    "    interests: [\"Programming\", \"Hiking\", \"Reading\"],\n",
    "    heightInInches: 72,\n",
    "    weightInKg: 70,\n",
    "};\n",
    "\n",
    "// Printing the entire object\n",
    "console.log(\"My Info Object:\");\n",
    "console.log(myInfo);\n",
    "\n",
    "// Manipulating the arrays within the object\n",
    "myInfo.currentClasses.push(\"Machine Learning\");\n",
    "myInfo.interests.push(\"Cooking\");\n",
    "\n",
    "// Printing the object after manipulation\n",
    "console.log(\"\\nMy Info Object after Manipulation:\");\n",
    "console.log(myInfo);\n",
    "\n",
    "// Performing mathematical operations\n",
    "const heightInFeet = myInfo.heightInInches / 12;\n",
    "const weightInPounds = myInfo.weightInKg * 2.205;\n",
    "\n",
    "console.log(\"\\nHeight in Feet:\", heightInFeet.toFixed(2));\n",
    "console.log(\"Weight in Pounds:\", weightInPounds.toFixed(2));\n",
    "\n",
    "// Using typeof to determine the types of fields\n",
    "console.log(\"\\nData Types:\");\n",
    "console.log(\"Name:\", typeof myInfo.name);\n",
    "console.log(\"Age:\", typeof myInfo.age);\n",
    "console.log(\"Interests:\", typeof myInfo.interests);\n",
    "</script>"
   ]
  }
 ],
 "metadata": {
  "kernelspec": {
   "display_name": "Python 3 (ipykernel)",
   "language": "python",
   "name": "python3"
  },
  "language_info": {
   "codemirror_mode": {
    "name": "ipython",
    "version": 3
   },
   "file_extension": ".py",
   "mimetype": "text/x-python",
   "name": "python",
   "nbconvert_exporter": "python",
   "pygments_lexer": "ipython3",
   "version": "3.11.4"
  }
 },
 "nbformat": 4,
 "nbformat_minor": 2
}
