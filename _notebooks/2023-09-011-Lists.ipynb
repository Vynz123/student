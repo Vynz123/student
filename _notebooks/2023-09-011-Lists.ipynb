{
 "cells": [
  {
   "cell_type": "code",
   "execution_count": null,
   "metadata": {},
   "outputs": [],
   "source": [
    "# Sample dataset of boba items and their descriptions\n",
    "boba_data = {\n",
    "    \"Classic Milk Tea\": \"A traditional Taiwanese drink made with black tea and milk.\",\n",
    "    \"Taro Bubble Tea\": \"A sweet and creamy beverage made with taro root and tapioca pearls.\",\n",
    "    \"Mango Passion Fruit Tea\": \"A fruity and refreshing drink with a tropical twist.\",\n",
    "    \"Matcha Latte\": \"A green tea-based beverage with steamed milk and a hint of sweetness.\",\n",
    "    \"Honeydew Smoothie\": \"A thick and creamy smoothie infused with honeydew melon flavor.\",\n",
    "    \"Strawberry Jasmine Green Tea\": \"A blend of green tea and strawberries with a floral aroma.\",\n",
    "}\n",
    "\n",
    "def search_boba_description(boba_name, dataset, depth=0):\n",
    "    # Base case: If the boba name is found in the dataset, return its description.\n",
    "    if boba_name in dataset:\n",
    "        return dataset[boba_name]\n",
    "    \n",
    "    # Recursive case: If the boba name is not found, search for it in the descriptions of other items.\n",
    "    for item_name, item_description in dataset.items():\n",
    "        if depth > 0:\n",
    "            # Indentation for visualization of recursion depth\n",
    "            print(\"  \" * depth, end=\"\")\n",
    "        print(f\"Searching in '{item_name}'...\")\n",
    "        description = search_boba_description(boba_name, dataset=item_description, depth=depth + 1)\n",
    "        if description:\n",
    "            return description\n",
    "    \n",
    "    return None           \n",
    "\n",
    "# Example usage:\n",
    "searched_boba = \"Taro Bubble Tea\"\n",
    "result = search_boba_description(searched_boba, boba_data)\n",
    "\n",
    "if result:\n",
    "    print(f\"Description for '{searched_boba}': {result}\")\n",
    "else:\n",
    "    print(f\"'{searched_boba}' not found in the dataset.\")\n"
   ]
  },
  {
   "cell_type": "code",
   "execution_count": null,
   "metadata": {},
   "outputs": [],
   "source": [
    "# Sample dataset of boba items and their descriptions\n",
    "boba_data = {\n",
    "    \"Classic Milk Tea\": \"A traditional Taiwanese drink made with black tea and milk.\",\n",
    "    \"Taro Bubble Tea\": \"A sweet and creamy beverage made with taro root and tapioca pearls.\",\n",
    "    \"Mango Passion Fruit Tea\": \"A fruity and refreshing drink with a tropical twist.\",\n",
    "    \"Matcha Latte\": \"A green tea-based beverage with steamed milk and a hint of sweetness.\",\n",
    "    \"Honeydew Smoothie\": \"A thick and creamy smoothie infused with honeydew melon flavor.\",\n",
    "    \"Strawberry Jasmine Green Tea\": \"A blend of green tea and strawberries with a floral aroma.\",\n",
    "}\n",
    "\n",
    "def search_boba_description_iterative(boba_name, dataset):\n",
    "    # Iterate through the dataset to find the description of the boba item.\n",
    "    for item_name, item_description in dataset.items():\n",
    "        if item_name == boba_name:\n",
    "            return item_description\n",
    "    \n",
    "    return None\n",
    "\n",
    "# Example usage:\n",
    "searched_boba = \"Taro Bubble Tea\"\n",
    "result = search_boba_description_iterative(searched_boba, boba_data)\n",
    "\n",
    "if result:\n",
    "    print(f\"Description for '{searched_boba}': {result}\")\n",
    "else:\n",
    "    print(f\"'{searched_boba}' not found in the dataset.\")\n"
   ]
  }
 ],
 "metadata": {
  "language_info": {
   "name": "python"
  },
  "orig_nbformat": 4
 },
 "nbformat": 4,
 "nbformat_minor": 2
}
