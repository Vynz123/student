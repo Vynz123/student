{
 "cells": [
  {
   "cell_type": "markdown",
   "metadata": {},
   "source": [
    "---\n",
    "toc: true\n",
    "comments: false\n",
    "layout: posts\n",
    "title: Js Debug\n",
    "type: hacks\n",
    "courses: { csp: {week: 4} }\n",
    "---\n",
    "\n",
    "\n",
    "\n",
    "### JS Debug"
   ]
  },
  {
   "cell_type": "markdown",
   "metadata": {},
   "source": [
    "<script> \n",
    "// Define the menu with item prices\n",
    "var menu = {\n",
    "    \"burger\": 3.99,\n",
    "    \"fries\": 1.99,\n",
    "    \"drink\": 0.99\n",
    "};\n",
    "\n",
    "// Initialize the total cost\n",
    "var total = 0;\n",
    "\n",
    "// Display the menu to the user\n",
    "console.log(\"Menu:\");\n",
    "for (var item in menu) {\n",
    "    // Display each menu item and its price, using toFixed(2) to format the price with 2 decimal places\n",
    "    console.log(item + \" - $\" + menu[item].toFixed(2));\n",
    "}\n",
    "\n",
    "// Single Test: Input \"burger\", expect output of burger price\n",
    "var selectedMenuItem = \"burger\"; // The user selects \"burger\"\n",
    "\n",
    "// Check if the selected item exists in the menu\n",
    "if (menu.hasOwnProperty(selectedMenuItem)) {\n",
    "    // If the selected item is in the menu, add its price to the total\n",
    "    total += menu[selectedMenuItem];\n",
    "    console.log(\"Added \" + selectedMenuItem + \" to the order.\");\n",
    "} else {\n",
    "    // If the selected item is not in the menu, display an error message\n",
    "    console.log(\"Error: \" + selectedMenuItem + \" is not in the menu.\");\n",
    "}\n",
    "\n",
    "// Display the total cost\n",
    "console.log(\"Total Cost: $\" + total.toFixed(2));\n",
    "\n",
    "</script>"
   ]
  }
 ],
 "metadata": {
  "language_info": {
   "name": "python"
  },
  "orig_nbformat": 4
 },
 "nbformat": 4,
 "nbformat_minor": 2
}
