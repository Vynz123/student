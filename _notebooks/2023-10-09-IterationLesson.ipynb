{
 "cells": [
  {
   "cell_type": "markdown",
   "metadata": {},
   "source": [
    "---\n",
    "toc: true\n",
    "comments: true\n",
    "layout: post\n",
    "title: Iteration Lesson\n",
    "type: hacks\n",
    "courses: { csp: {week: 7} }\n",
    "---"
   ]
  },
  {
   "cell_type": "markdown",
   "metadata": {},
   "source": [
    "## Flow of Information\n",
    "\n",
    "The information in a code flows in a direction based on the loops and conditional statements written."
   ]
  },
  {
   "cell_type": "markdown",
   "metadata": {},
   "source": [
    "## Control Statements \n",
    "\n",
    "These statements determine the order in which the code is executed. Two major ways of writing control statements are using iteration and transfer statements."
   ]
  },
  {
   "cell_type": "markdown",
   "metadata": {},
   "source": [
    "# Iteration\n",
    "#### By: (Sumedha, Aditya, Ishraq, Grayson, Anthony)\n",
    "\n",
    "## What is iteration?\n",
    "\n",
    "We use iteration when we need to repeat the same code for a multiple number of times. Iteration is the looping of data in a code sequence. In Python, iteration is done using While loops and For loops."
   ]
  },
  {
   "cell_type": "markdown",
   "metadata": {},
   "source": [
    "## While loops\n",
    "\n",
    "While loops are used when the looping depends on a condition. As long as the condition is true, the code will be executed. When the condition becomes false, the loop stops.\n",
    "\n",
    "\n",
    "In a while loop, we need to specify the index value (where the loop starts) and the increment value (what the loop increases by)."
   ]
  },
  {
   "cell_type": "code",
   "execution_count": 2,
   "metadata": {},
   "outputs": [
    {
     "name": "stdout",
     "output_type": "stream",
     "text": [
      "0\n",
      "1\n",
      "2\n",
      "3\n",
      "4\n"
     ]
    }
   ],
   "source": [
    "i = 0\n",
    "while i < 5:\n",
    "    print(i)\n",
    "    i += 1"
   ]
  },
  {
   "cell_type": "markdown",
   "metadata": {},
   "source": [
    "## Hack 1:\n",
    "\n",
    "#### Write a code for printing even numbers from 1 to 10 using a while loop."
   ]
  },
  {
   "cell_type": "code",
   "execution_count": 4,
   "metadata": {},
   "outputs": [
    {
     "name": "stdout",
     "output_type": "stream",
     "text": [
      "1\n",
      "2\n",
      "3\n",
      "4\n",
      "5\n",
      "6\n",
      "7\n",
      "8\n",
      "9\n",
      "10\n"
     ]
    }
   ],
   "source": [
    "i=1\n",
    "while i <= 10:\n",
    "    print(i)\n",
    "    i += 1\n"
   ]
  },
  {
   "cell_type": "markdown",
   "metadata": {},
   "source": [
    "## Transfer Functions\n",
    "\n",
    "Statements which transfer control from one part of a program to another. Examples are: break, continue, and pass statements."
   ]
  },
  {
   "cell_type": "markdown",
   "metadata": {},
   "source": [
    "## Break Funtion\n",
    "\n",
    "To stop a code from printing after a certain value, use the break function. We use an if statement to decide where the output will stop. The break function is placed before the increment and after the if statement."
   ]
  },
  {
   "cell_type": "code",
   "execution_count": null,
   "metadata": {},
   "outputs": [],
   "source": [
    "i = 1\n",
    "while i < 5:\n",
    "  print(i)\n",
    "  if i == 2:\n",
    "    break\n",
    "  i += 1"
   ]
  },
  {
   "cell_type": "markdown",
   "metadata": {},
   "source": [
    "## Continue Function\n",
    "\n",
    "To skip an output value and continue on to the end value, use the continue function. We use an if statement to decide which value should be skipped. The continue function is placed after both the increment and the if statement."
   ]
  },
  {
   "cell_type": "code",
   "execution_count": null,
   "metadata": {},
   "outputs": [],
   "source": [
    "i = 0\n",
    "while i < 5:\n",
    "  i += 1 \n",
    "  if i == 2:\n",
    "    continue\n",
    "  print(i)"
   ]
  },
  {
   "cell_type": "markdown",
   "metadata": {},
   "source": [
    "## Hack 2:\n",
    "\n",
    "#### Write a code to list the numbers from 1 to 20 while skipping the multiples of 2 using a while loop."
   ]
  },
  {
   "cell_type": "code",
   "execution_count": 6,
   "metadata": {},
   "outputs": [
    {
     "name": "stdout",
     "output_type": "stream",
     "text": [
      "1\n",
      "3\n",
      "5\n",
      "7\n",
      "9\n",
      "11\n",
      "13\n",
      "15\n",
      "17\n",
      "19\n"
     ]
    }
   ],
   "source": [
    "i = 0\n",
    "while i <= 20:\n",
    "    if i%2 != 0:\n",
    "        print(i)\n",
    "        i += 1\n",
    "    else:\n",
    "        i += 1"
   ]
  },
  {
   "cell_type": "markdown",
   "metadata": {},
   "source": [
    "## Pass Function\n",
    "\n",
    "The pass function is like a placeholder after empty code has been written. When a pass statement is added, there will be no effect, but there will be no error message. If there is no pass statement, then an error message will appear."
   ]
  },
  {
   "cell_type": "code",
   "execution_count": 21,
   "metadata": {},
   "outputs": [],
   "source": [
    "for x in []:\n",
    "    pass"
   ]
  },
  {
   "cell_type": "markdown",
   "metadata": {},
   "source": [
    "## Else Statements\n",
    "\n",
    "If a condition isn't true anymore, then we can write a code using an else statement which stops the iteration from continuing."
   ]
  },
  {
   "cell_type": "code",
   "execution_count": null,
   "metadata": {},
   "outputs": [],
   "source": [
    "i = 1\n",
    "while i < 5:\n",
    "  print(i)\n",
    "  i += 1\n",
    "else:\n",
    "  print(\"i is no longer less than 5\")"
   ]
  },
  {
   "cell_type": "markdown",
   "metadata": {},
   "source": [
    "## For Loops\n",
    "\n",
    "For Loops are used to iterate over a group of values such as lists, strings, dictionaries, tuples, etc. "
   ]
  },
  {
   "cell_type": "code",
   "execution_count": null,
   "metadata": {},
   "outputs": [],
   "source": [
    "gemstones = [\"aquamarine\", \"beryl\", \"citrine\"]\n",
    "for x in gemstones:\n",
    "  print(x)"
   ]
  },
  {
   "cell_type": "markdown",
   "metadata": {},
   "source": [
    "## Looping through Strings\n",
    "\n",
    "We can iterate through strings by using a for loop that shows each character in the string. Example below: "
   ]
  },
  {
   "cell_type": "code",
   "execution_count": null,
   "metadata": {},
   "outputs": [],
   "source": [
    "for x in \"beryl\":\n",
    "    print(x)"
   ]
  },
  {
   "cell_type": "markdown",
   "metadata": {},
   "source": [
    "## Break Function\n",
    "\n",
    "Using a break function, we can stop the loop from iterating when the output is a certain value. This is the same as in while loops."
   ]
  },
  {
   "cell_type": "code",
   "execution_count": null,
   "metadata": {},
   "outputs": [],
   "source": [
    "gemstones = [\"aquamarine\", \"beryl\", \"citrine\"]\n",
    "for x in gemstones:\n",
    "  print(x)\n",
    "  if x == \"beryl\":\n",
    "    break"
   ]
  },
  {
   "cell_type": "markdown",
   "metadata": {},
   "source": [
    "## Continue Function\n",
    "\n",
    "Using a continue function, we can skip an output value and continue the iteration till the end of the sequence. This is similar to while loops."
   ]
  },
  {
   "cell_type": "code",
   "execution_count": null,
   "metadata": {},
   "outputs": [],
   "source": [
    "gemstones = [\"aquamarine\", \"beryl\", \"citrine\"]\n",
    "for x in gemstones:\n",
    "    if x == \"beryl\":\n",
    "        continue\n",
    "    print(x)"
   ]
  },
  {
   "cell_type": "markdown",
   "metadata": {},
   "source": [
    "## Range Function\n",
    "\n",
    "Using a range function, we can iterate through a specific range of values. This function starts with zero and increments by 1, which it does automatically, and we specify exactly which values to iterate through."
   ]
  },
  {
   "cell_type": "code",
   "execution_count": null,
   "metadata": {},
   "outputs": [],
   "source": [
    "for x in range(8):\n",
    "    print(x)"
   ]
  },
  {
   "cell_type": "markdown",
   "metadata": {},
   "source": [
    "We can define the starting value if it is other than zero by adding a second parameter."
   ]
  },
  {
   "cell_type": "code",
   "execution_count": null,
   "metadata": {},
   "outputs": [],
   "source": [
    "for x in range(2,8):\n",
    "    print(x)"
   ]
  },
  {
   "cell_type": "markdown",
   "metadata": {},
   "source": [
    "We can also define the increment value by adding a third parameter."
   ]
  },
  {
   "cell_type": "code",
   "execution_count": null,
   "metadata": {},
   "outputs": [],
   "source": [
    "for x in range(1,8,2):\n",
    "    print(x)"
   ]
  },
  {
   "cell_type": "markdown",
   "metadata": {},
   "source": [
    "## Else Statements\n",
    "\n",
    "We use else statements to signal when a code is done iterating through a set of values. It is used to code for a message which is printed to show when the iteration is complete.  "
   ]
  },
  {
   "cell_type": "code",
   "execution_count": null,
   "metadata": {},
   "outputs": [],
   "source": [
    "for x in range(8):\n",
    "    print(x)\n",
    "else:\n",
    "    print(\"The code is finished!\")"
   ]
  },
  {
   "cell_type": "markdown",
   "metadata": {},
   "source": [
    "## Nested Loops\n",
    "\n",
    "Nested Loops are loops within loops. This is used to return an output which is a combination of the outer and inner loops."
   ]
  },
  {
   "cell_type": "code",
   "execution_count": null,
   "metadata": {},
   "outputs": [],
   "source": [
    "for x in [1, 2]:\n",
    "    print(x)\n",
    "    for y in [2, 3, 4, 5]:\n",
    "        print(y)"
   ]
  },
  {
   "cell_type": "code",
   "execution_count": null,
   "metadata": {},
   "outputs": [],
   "source": [
    "for i in range(4,6):\n",
    "    print (i)\n",
    "    for x in range(1,11):\n",
    "        print (i, \"X\", x, \"=\", i * x)"
   ]
  },
  {
   "cell_type": "markdown",
   "metadata": {},
   "source": [
    "## Hack 3\n",
    "\n",
    "Write a code using a for loop that outputs numbers from 1 to 100 and skips multiples of 4.\n",
    "\n",
    "Upper 90%: Add multiple parameters to specify your values. Use continue to skip the proper values. Double check outputs."
   ]
  },
  {
   "cell_type": "code",
   "execution_count": 7,
   "metadata": {},
   "outputs": [
    {
     "name": "stdout",
     "output_type": "stream",
     "text": [
      "1\n",
      "2\n",
      "3\n",
      "5\n",
      "6\n",
      "7\n",
      "9\n",
      "10\n",
      "11\n",
      "13\n",
      "14\n",
      "15\n",
      "17\n",
      "18\n",
      "19\n",
      "21\n",
      "22\n",
      "23\n",
      "25\n",
      "26\n",
      "27\n",
      "29\n",
      "30\n",
      "31\n",
      "33\n",
      "34\n",
      "35\n",
      "37\n",
      "38\n",
      "39\n",
      "41\n",
      "42\n",
      "43\n",
      "45\n",
      "46\n",
      "47\n",
      "49\n",
      "50\n",
      "51\n",
      "53\n",
      "54\n",
      "55\n",
      "57\n",
      "58\n",
      "59\n",
      "61\n",
      "62\n",
      "63\n",
      "65\n",
      "66\n",
      "67\n",
      "69\n",
      "70\n",
      "71\n",
      "73\n",
      "74\n",
      "75\n",
      "77\n",
      "78\n",
      "79\n",
      "81\n",
      "82\n",
      "83\n",
      "85\n",
      "86\n",
      "87\n",
      "89\n",
      "90\n",
      "91\n",
      "93\n",
      "94\n",
      "95\n",
      "97\n",
      "98\n",
      "99\n"
     ]
    }
   ],
   "source": [
    "\n",
    "for i in range(0,100):\n",
    "    if i%4 != 0:\n",
    "        print(i)\n",
    "    else:\n",
    "        pass\n"
   ]
  },
  {
   "cell_type": "markdown",
   "metadata": {},
   "source": [
    "## Homework\n",
    "\n"
   ]
  },
  {
   "cell_type": "markdown",
   "metadata": {},
   "source": [
    "# Create a function that takes a list of numbers and arranges the in descending order\n",
    "For example this function should be able to take the list [35,4,6,90,2,55,13,8] and arrange it into [2,4,6,8,13.35,55,90]\n",
    "\n",
    "## Extra Credit\n",
    "Make it so this function can also sort strings by their length\n",
    "For example [Car,4,11,twenty,27,trees] should sort into [Car,4,trees,twenty,11,27]"
   ]
  },
  {
   "cell_type": "code",
   "execution_count": 24,
   "metadata": {},
   "outputs": [
    {
     "name": "stdout",
     "output_type": "stream",
     "text": [
      "['Car', 4, 'trees', 'twenty', 11, 27]\n"
     ]
    }
   ],
   "source": [
    "### Extra Credit Function\n",
    "\n",
    "def custom_sort(strings):\n",
    "    def get_length(string):\n",
    "        if isinstance(string, str):\n",
    "            return len(string)\n",
    "        elif isinstance(string, int):\n",
    "            return string\n",
    "        else:\n",
    "            return 0\n",
    "\n",
    "    sorted_strings = sorted(strings, key=get_length)\n",
    "    return sorted_strings\n",
    "\n",
    "input_list = [\"Car\", 4, 11, \"twenty\", 27, \"trees\"]\n",
    "sorted_list = custom_sort(input_list)\n",
    "print(sorted_list)\n",
    "\n"
   ]
  },
  {
   "cell_type": "code",
   "execution_count": 23,
   "metadata": {},
   "outputs": [
    {
     "name": "stdout",
     "output_type": "stream",
     "text": [
      "Test case 1 passed\n",
      "Test case 3 passed\n",
      "Test case 4 passed\n",
      "Test case 5 passed\n"
     ]
    }
   ],
   "source": [
    "def shortestToLongestSorter(arr):\n",
    "    numbers = [x for x in arr if isinstance(x, (int, float))]\n",
    "    strings = [x for x in arr if isinstance(x, str)]\n",
    "\n",
    "    numbers.sort()  # Sort numbers in ascending order\n",
    "\n",
    "    def strings_sort_key(s):\n",
    "        \n",
    "        return len(s) if isinstance(s, str) else s # Sort by length and then lexicographically\n",
    "\n",
    "    strings.sort(key=strings_sort_key)  # Sort strings by length and then lexicographically\n",
    "\n",
    "    sorted_arr = numbers + strings\n",
    "\n",
    "    return sorted_arr\n",
    "\n",
    "\n",
    "def test_shortestToLongestSorter():\n",
    "    # Test case 1: Sort numbers in ascending order\n",
    "    input_list = [35, 4, 6, 90, 2, 55, 13, 8]\n",
    "    expected_result = [2, 4, 6, 8, 13, 35, 55, 90]\n",
    "    result = shortestToLongestSorter(input_list)\n",
    "    if result == expected_result:\n",
    "        print(\"Test case 1 passed\")\n",
    "    else:\n",
    "        print(\"Test case 1 failed\")\n",
    "\n",
    "    # Test case 2: Empty list should return an empty list\n",
    "    input_empty = []\n",
    "    expected_result_empty = []\n",
    "    result_empty = shortestToLongestSorter(input_empty)\n",
    "    if result_empty == expected_result_empty:\n",
    "        print(\"Test case 3 passed\")\n",
    "    else:\n",
    "        print(\"Test case 3 failed\")\n",
    "\n",
    "    # Test case 3: Only numbers, sorted in ascending order\n",
    "    input_numbers_only = [3, 1, 2, 5, 4]\n",
    "    expected_result_numbers_only = [1, 2, 3, 4, 5]\n",
    "    result_numbers_only = shortestToLongestSorter(input_numbers_only)\n",
    "    if result_numbers_only == expected_result_numbers_only:\n",
    "        print(\"Test case 4 passed\")\n",
    "    else:\n",
    "        print(\"Test case 4 failed\")\n",
    "\n",
    "    # Test case 4: Only strings, sorted by length in ascending order\n",
    "    input_strings_only = [\"apple\", \"banana\", \"cat\", \"dog\"]\n",
    "    expected_result_strings_only = [\"cat\", \"dog\", \"apple\", \"banana\"]\n",
    "    result_strings_only = shortestToLongestSorter(input_strings_only)\n",
    "    if result_strings_only == expected_result_strings_only:\n",
    "        print(\"Test case 5 passed\")\n",
    "    else:\n",
    "        print(\"Test case 5 failed\")\n",
    "\n",
    "if __name__ == \"__main__\":\n",
    "    test_shortestToLongestSorter()\n"
   ]
  }
 ],
 "metadata": {
  "kernelspec": {
   "display_name": "Python 3",
   "language": "python",
   "name": "python3"
  },
  "language_info": {
   "codemirror_mode": {
    "name": "ipython",
    "version": 3
   },
   "file_extension": ".py",
   "mimetype": "text/x-python",
   "name": "python",
   "nbconvert_exporter": "python",
   "pygments_lexer": "ipython3",
   "version": "3.11.4"
  }
 },
 "nbformat": 4,
 "nbformat_minor": 2
}
