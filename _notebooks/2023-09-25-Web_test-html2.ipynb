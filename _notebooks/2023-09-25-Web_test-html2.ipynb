{
 "cells": [
  {
   "cell_type": "markdown",
   "metadata": {},
   "source": [
    "---\n",
    "toc: true\n",
    "comments: false\n",
    "layout: new\n",
    "title: HTML 2\n",
    "type: hacks\n",
    "courses: { csp: {week: 4} }\n",
    "---\n",
    "\n",
    "\n",
    "\n",
    "### HTML 2"
   ]
  },
  {
   "cell_type": "markdown",
   "metadata": {},
   "source": [
    "<html lang=\"en\">\n",
    "<head>\n",
    "    <title>Navbar</title>\n",
    "</head>\n",
    "<body style=\"margin: 0; padding: 0; box-sizing: border-box; font-family: 'Poppins'; background: url('https://images4.newscred.com/Zz1kNmFkYmFmNzhlNGIxMWViYTU1ZDFmYjg0ZWI5MTc4Zg==') no-repeat; background-size: cover; background-position: center; min-height: 100vh; margin-top: 200px;\">\n",
    "    <header style=\"position: fixed; top: 0; left: 0; width: 100%; padding: 20px 100px; background: transparent; display: flex; justify-content: space-between; align-items: center; z-index: 100; height: 10vh;\">\n",
    "        <a href=\"#link1\" id=\"link1\" onclick=\"updateStatus('Link 1')\" style=\"font-size: 18px; color: white; text-decoration: none; font-weight: 500; margin-left: 40px;\">Link 1</a>\n",
    "        <a href=\"#link2\" id=\"link2\" onclick=\"updateStatus('Link 2')\" style=\"font-size: 18px; color: white; text-decoration: none; font-weight: 500; margin-left: 40px;\">Link 2</a>\n",
    "        <button onclick=\"switchLinks()\">Switch Links</button>\n",
    "    </header>\n",
    "    <section style=\"margin-top: 100px; text-align: center; background-color: pink;\">\n",
    "        <h1 style=\"font-size: 36px; color: white;\">Section Title</h1>\n",
    "        <p id=\"status\" style=\"font-size: 18px; color: white; background-color: pink;\">Status: Not Switched</p>\n",
    "        <div style=\"background-color: #333; color: white; padding: 20px;\">\n",
    "            <p style=\"font-size: 24px;\">Image</p>\n",
    "        </div>\n",
    "    </section>\n",
    "    <script>\n",
    "        function switchLinks() {\n",
    "            const link1 = document.getElementById(\"link1\");\n",
    "            const link2 = document.getElementById(\"link2\");\n",
    "            const status = document.getElementById(\"status\");\n",
    "            // Swap the href attributes of link1 and link2\n",
    "            const temp = link1.href;\n",
    "            link1.href = link2.href;\n",
    "            link2.href = temp;\n",
    "            // Change the inner HTML of the top <p> tag\n",
    "            status.innerHTML = \"Status: Switched!\";\n",
    "        }\n",
    "        function updateStatus(newStatus) {\n",
    "            const status = document.getElementById(\"status\");\n",
    "            status.innerHTML = \"Status: \" + newStatus;\n",
    "        }\n",
    "    </script>\n",
    "</body>\n",
    "</html>\n"
   ]
  }
 ],
 "metadata": {
  "language_info": {
   "name": "python"
  },
  "orig_nbformat": 4
 },
 "nbformat": 4,
 "nbformat_minor": 2
}
