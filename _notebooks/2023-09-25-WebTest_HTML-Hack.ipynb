{
 "cells": [
  {
   "cell_type": "markdown",
   "metadata": {},
   "source": [
    "---\n",
    "toc: true\n",
    "comments: false\n",
    "layout: new\n",
    "title: Html Web Site Layout\n",
    "type: hacks\n",
    "courses: { csp: {week: 4} }\n",
    "---\n",
    "\n",
    "\n",
    "\n",
    "### HTML Web Site Layout\n",
    "\n"
   ]
  },
  {
   "cell_type": "markdown",
   "metadata": {
    "vscode": {
     "languageId": "html"
    }
   },
   "source": [
    "<html lang=\"en\">\n",
    "<head>\n",
    "    <title>Navbar</title>\n",
    "</head>\n",
    "<body style=\"margin: 0; padding: 0; box-sizing: border-box; font-family: 'Poppins'; background: url('https://images4.newscred.com/Zz1kNmFkYmFmNzhlNGIxMWViYTU1ZDFmYjg0ZWI5MTc4Zg==') no-repeat; background-size: cover; background-position: center; min-height: 100vh; /* Use 100vh to fill the viewport height */ margin-top: 200px;\">\n",
    "    <header style=\"position: fixed; top: 0; left: 0; width: 100%; padding: 20px 100px; background: transparent; display: flex; justify-content: space-between; align-items: center; z-index: 100; height: 10vh; /* Adjust the height as needed */\">\n",
    "        <a href=\"#\" style=\"font-size: 32px; color: white; text-decoration: none; font-weight: 700;\">Logo</a>\n",
    "        <nav class=\"navbar\">\n",
    "            <a style=\"position: relative; font-size: 18px; color: white; font-weight: 500; text-decoration: none; margin-left: 40px;\">Home</a>\n",
    "            <a style=\"position: relative; font-size: 18px; color: white; font-weight: 500; text-decoration: none; margin-left: 40px;\">About</a>\n",
    "            <a style=\"position: relative; font-size: 18px; color: white; font-weight: 500; text-decoration: none; margin-left: 40px;\">Gallery</a>\n",
    "            <a style=\"position: relative; font-size: 18px; color: white; font-weight: 500; text-decoration: none; margin-left: 40px;\">Services</a>\n",
    "            <a style=\"position: relative; font-size: 18px; color: white; font-weight: 500; text-decoration: none; margin-left: 40px;\">Contact</a>\n",
    "        </nav>\n",
    "    </header>\n",
    "</body>\n",
    "</html>\n"
   ]
  },
  {
   "cell_type": "markdown",
   "metadata": {},
   "source": [
    "\n",
    "<!-- <html lang=\"en\">\n",
    "<head>\n",
    "    <title>Navbar</title>\n",
    "</head>\n",
    "<body style=\"margin: 0; padding: 0; box-sizing: border-box; font-family: 'Poppins'; background: url('https://images4.newscred.com/Zz1kNmFkYmFmNzhlNGIxMWViYTU1ZDFmYjg0ZWI5MTc4Zg==') no-repeat; background-size: cover; background-position: center; min-height: 100vh; /* Use 100vh to fill the viewport height */ margin-top: 200px;\">\n",
    "    <header style=\"position: fixed; top: 0; left: 0; width: 100%; padding: 20px 100px; background: transparent; display: flex; justify-content: space-between; align-items: center; z-index: 100; height: 10vh; /* Adjust the height as needed */\">\n",
    "        <a href=\"#\" style=\"font-size: 32px; color: white; text-decoration: none; font-weight: 700;\">Logo</a>\n",
    "        <nav class=\"navbar\">\n",
    "            <a style=\"position: relative; font-size: 18px; color: white; font-weight: 500; text-decoration: none; margin-left: 40px;\">Home</a>\n",
    "            <a style=\"position: relative; font-size: 18px; color: white; font-weight: 500; text-decoration: none; margin-left: 40px;\">About</a>\n",
    "            <a style=\"position: relative; font-size: 18px; color: white; font-weight: 500; text-decoration: none; margin-left: 40px;\">Gallery</a>\n",
    "            <a style=\"position: relative; font-size: 18px; color: white; font-weight: 500; text-decoration: none; margin-left: 40px;\">Services</a>\n",
    "            <a style=\"position: relative; font-size: 18px; color: white; font-weight: 500; text-decoration: none; margin-left: 40px;\">Contact</a>\n",
    "        </nav>\n",
    "    </header>\n",
    "</body>\n",
    "</html> -->\n"
   ]
  }
 ],
 "metadata": {
  "kernelspec": {
   "display_name": "Python 3 (ipykernel)",
   "language": "python",
   "name": "python3"
  },
  "language_info": {
   "codemirror_mode": {
    "name": "ipython",
    "version": 3
   },
   "file_extension": ".py",
   "mimetype": "text/x-python",
   "name": "python",
   "nbconvert_exporter": "python",
   "pygments_lexer": "ipython3",
   "version": "3.11.4"
  }
 },
 "nbformat": 4,
 "nbformat_minor": 2
}
