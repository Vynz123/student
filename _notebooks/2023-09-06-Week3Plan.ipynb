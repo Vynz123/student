{
 "cells": [
  {
   "cell_type": "markdown",
   "metadata": {},
   "source": [
    "---\n",
    "layout: post\n",
    "title: Space Invaders\n",
    "description: A Lab NoteBook Detailing this Week's Plan\n",
    "type: hacks\n",
    "courses: {'csse': {'week': 1}, 'csp': {'week': 3}, 'csa': {'week': 0}}\n",
    "categories: ['C4.1']\n",
    "---"
   ]
  },
  {
   "cell_type": "markdown",
   "metadata": {},
   "source": [
    "\n",
    "\n",
    "### End of Week Goal's\n",
    "\n",
    "Follow the instructions the teacher provided in the Pair Showcase to get a 5 on the pair showcase.\n",
    "\n",
    "### Pair Showcase Rubric \n",
    "   \n",
    "### 1 point response to feedback. Students show ability to adapt and grow from feedback from Teacher or Peer reviews.  \n",
    "\n",
    "    How I plan to get this point:\n",
    "        - First I plan to get my hacks reviewed by other pairs and have them leave a github comment on what I should improve.\n",
    "        - Then I plan to listen to these reviews and make changes the other pairs submit. \n",
    "        - I also plan to have chat gpt review my code and use it for better speed and memory optimizations.\n",
    "\n",
    "### 1 point focus, intentions.   See Pair Showcase blog.  Setting goals, making plans, usage of time toward plans.\n",
    "\n",
    "    How I plan to get this point: \n",
    "        - First I plan to review all the requirements and type up a plan that explains how I will get these points\n",
    "        - Then I plan on giving a Day by Day review on what I did that day and imrpovements I've made and what I think I should improve upon.\n",
    "\n",
    "### 1 point technical progression.  See Pair Showcase blog.   Individual and pair technical progress over time and goals.\n",
    "\n",
    "    How I plan to get this point:\n",
    "        - First I plan to get this point by looking through my old hacks and projects and making them better\n",
    "        - I then plan to make A  New Javascript game that is full stack and involves alot of styling and code\n",
    "        - For python I plan to make a better python QUIZ Ui using an API to cellect data about random Questions\n",
    "        - For Linux I plan to make a git auto commit\n",
    "\n",
    "###  1 point soft skills, presentation. \n",
    "\n",
    "    How I plan to get this point:\n",
    "        - I plan to get pair reviews in my github issues and then add details abnd fix these issues\n",
    "        - I then plan to make a schedule for my live review with my partner and write down how we are going to review the code we've done and gert as many points as possible\n",
    "\n",
    "### 1 point left to competency, understanding.\n",
    "\n",
    "    How I plan to get this point:\n",
    "        - I plan to get this point by demonstrating the knowledge and how the code behind my games will work and how the \n",
    "\n",
    "\n"
   ]
  }
 ],
 "metadata": {
  "language_info": {
   "name": "python"
  },
  "orig_nbformat": 4
 },
 "nbformat": 4,
 "nbformat_minor": 2
}
